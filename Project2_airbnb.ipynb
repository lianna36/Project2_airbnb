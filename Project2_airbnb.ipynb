{
 "cells": [
  {
   "cell_type": "code",
   "execution_count": 155,
   "metadata": {},
   "outputs": [],
   "source": [
    "import pandas as pd\n",
    "import numpy as np\n",
    "import re\n",
    "from sklearn.linear_model import LogisticRegression\n",
    "from sklearn.preprocessing import LabelEncoder\n",
    "from sklearn.metrics import accuracy_score"
   ]
  },
  {
   "cell_type": "code",
   "execution_count": 156,
   "metadata": {},
   "outputs": [
    {
     "name": "stderr",
     "output_type": "stream",
     "text": [
      "C:\\Users\\User\\AppData\\Local\\Temp\\ipykernel_11180\\126891495.py:2: DtypeWarning: Columns (25) have mixed types. Specify dtype option on import or set low_memory=False.\n",
      "  data = pd.read_csv('Airbnb_Open_Data.csv')\n"
     ]
    }
   ],
   "source": [
    "# Load the data\n",
    "data = pd.read_csv('Airbnb_Open_Data.csv')"
   ]
  },
  {
   "cell_type": "code",
   "execution_count": 157,
   "metadata": {},
   "outputs": [
    {
     "data": {
      "text/plain": [
       "id                                     0\n",
       "NAME                                 250\n",
       "host id                                0\n",
       "host_identity_verified               289\n",
       "host name                            406\n",
       "neighbourhood group                   29\n",
       "neighbourhood                         16\n",
       "lat                                    8\n",
       "long                                   8\n",
       "country                              532\n",
       "country code                         131\n",
       "instant_bookable                     105\n",
       "cancellation_policy                   76\n",
       "room type                              0\n",
       "Construction year                    214\n",
       "price                                247\n",
       "service fee                          273\n",
       "minimum nights                       409\n",
       "number of reviews                    183\n",
       "last review                        15893\n",
       "reviews per month                  15879\n",
       "review rate number                   326\n",
       "calculated host listings count       319\n",
       "availability 365                     448\n",
       "house_rules                        52131\n",
       "license                           102597\n",
       "dtype: int64"
      ]
     },
     "execution_count": 157,
     "metadata": {},
     "output_type": "execute_result"
    }
   ],
   "source": [
    "data.isnull().sum()"
   ]
  },
  {
   "cell_type": "code",
   "execution_count": 158,
   "metadata": {},
   "outputs": [],
   "source": [
    "# Function to clean the name\n",
    "def clean_name(name):\n",
    "    if pd.isna(name):\n",
    "        return \"Unknown\"\n",
    "    # Convert to string, strip spaces, replace multiple spaces, and remove newlines\n",
    "    name = str(name).strip()\n",
    "    name = re.sub(' +', ' ', name)  # Replace multiple spaces with a single space\n",
    "    name = re.sub(r'\\s+', ' ', name)  # Replace newlines and tabs with a single space\n",
    "    return name\n",
    "\n",
    "data['NAME'] = data['NAME'].apply(clean_name)\n",
    "data['host name'] = data['host name'].apply(clean_name)\n",
    "data['house_rules'] = data['house_rules'].apply(clean_name)\n",
    "\n",
    "# Drop the 'license' column due to high percentage of missing values\n",
    "data.drop(columns=['license'], inplace=True)\n",
    "\n",
    "# Convert 'price' and 'service fee' to numeric after removing currency symbols\n",
    "data['NAME'] = data['NAME'].replace(\"'\", '', regex=True)\n",
    "data['host name'] = data['host name'].replace(\"'\", '', regex=True)\n",
    "data['price'] = data['price'].replace('[$,]', '', regex=True).astype(float)\n",
    "data['service fee'] = data['service fee'].replace('[$,]', '', regex=True).astype(float)\n",
    "\n",
    "# Handling data quality issues\n",
    "data.loc[data['availability 365'] > 365, 'availability 365'] = 365\n",
    "data.loc[data['availability 365'] < 0, 'availability 365'] = data.loc[data['availability 365'] < 0, 'availability 365'].abs()"
   ]
  },
  {
   "cell_type": "code",
   "execution_count": 159,
   "metadata": {},
   "outputs": [
    {
     "data": {
      "text/plain": [
       "array(['Brooklyn', 'Manhattan', 'brookln', 'manhatan', 'Queens', nan,\n",
       "       'Staten Island', 'Bronx'], dtype=object)"
      ]
     },
     "execution_count": 159,
     "metadata": {},
     "output_type": "execute_result"
    }
   ],
   "source": [
    "data['neighbourhood group'].unique()"
   ]
  },
  {
   "cell_type": "code",
   "execution_count": 160,
   "metadata": {},
   "outputs": [],
   "source": [
    "data.loc[data['neighbourhood group'] == 'manhatan', 'neighbourhood group'] = 'Manhattan'\n",
    "data.loc[data['neighbourhood group'] == 'brookln', 'neighbourhood group'] = 'Brooklyn'"
   ]
  },
  {
   "cell_type": "code",
   "execution_count": 161,
   "metadata": {},
   "outputs": [
    {
     "data": {
      "text/plain": [
       "array(['Brooklyn', 'Manhattan', 'Queens', nan, 'Staten Island', 'Bronx'],\n",
       "      dtype=object)"
      ]
     },
     "execution_count": 161,
     "metadata": {},
     "output_type": "execute_result"
    }
   ],
   "source": [
    "data['neighbourhood group'].unique()"
   ]
  },
  {
   "cell_type": "code",
   "execution_count": 162,
   "metadata": {},
   "outputs": [
    {
     "data": {
      "text/plain": [
       "array(['United States', nan], dtype=object)"
      ]
     },
     "execution_count": 162,
     "metadata": {},
     "output_type": "execute_result"
    }
   ],
   "source": [
    "data['country'].unique()"
   ]
  },
  {
   "cell_type": "code",
   "execution_count": 163,
   "metadata": {},
   "outputs": [
    {
     "data": {
      "text/plain": [
       "array(['US', nan], dtype=object)"
      ]
     },
     "execution_count": 163,
     "metadata": {},
     "output_type": "execute_result"
    }
   ],
   "source": [
    "data['country code'].unique()"
   ]
  },
  {
   "cell_type": "code",
   "execution_count": 164,
   "metadata": {},
   "outputs": [],
   "source": [
    "data['country'].fillna('United States', inplace=True)"
   ]
  },
  {
   "cell_type": "code",
   "execution_count": 165,
   "metadata": {},
   "outputs": [],
   "source": [
    "data['country code'].fillna('US', inplace=True)"
   ]
  },
  {
   "cell_type": "code",
   "execution_count": 166,
   "metadata": {},
   "outputs": [
    {
     "data": {
      "text/plain": [
       "id                                    0\n",
       "NAME                                  0\n",
       "host id                               0\n",
       "host_identity_verified              289\n",
       "host name                             0\n",
       "neighbourhood group                  29\n",
       "neighbourhood                        16\n",
       "lat                                   8\n",
       "long                                  8\n",
       "country                               0\n",
       "country code                          0\n",
       "instant_bookable                    105\n",
       "cancellation_policy                  76\n",
       "room type                             0\n",
       "Construction year                   214\n",
       "price                               247\n",
       "service fee                         273\n",
       "minimum nights                      409\n",
       "number of reviews                   183\n",
       "last review                       15893\n",
       "reviews per month                 15879\n",
       "review rate number                  326\n",
       "calculated host listings count      319\n",
       "availability 365                    448\n",
       "house_rules                           0\n",
       "dtype: int64"
      ]
     },
     "execution_count": 166,
     "metadata": {},
     "output_type": "execute_result"
    }
   ],
   "source": [
    "data.isnull().sum()"
   ]
  },
  {
   "cell_type": "code",
   "execution_count": 167,
   "metadata": {},
   "outputs": [
    {
     "data": {
      "text/plain": [
       "541"
      ]
     },
     "execution_count": 167,
     "metadata": {},
     "output_type": "execute_result"
    }
   ],
   "source": [
    "data.duplicated().sum()"
   ]
  },
  {
   "cell_type": "code",
   "execution_count": 168,
   "metadata": {},
   "outputs": [],
   "source": [
    "data.drop_duplicates(inplace=True)"
   ]
  },
  {
   "cell_type": "code",
   "execution_count": 169,
   "metadata": {},
   "outputs": [
    {
     "data": {
      "text/plain": [
       "0"
      ]
     },
     "execution_count": 169,
     "metadata": {},
     "output_type": "execute_result"
    }
   ],
   "source": [
    "data.duplicated().sum()"
   ]
  },
  {
   "cell_type": "code",
   "execution_count": 170,
   "metadata": {},
   "outputs": [],
   "source": [
    "def fill_na_with_distribution(data, column):\n",
    "    # Get the value counts (distribution) of non-null values\n",
    "    value_counts = data[column].value_counts(normalize=True)\n",
    "    \n",
    "    # Get the number of NaNs in the column\n",
    "    num_nans = data[column].isna().sum()\n",
    "    \n",
    "    # Calculate the number of values to fill based on the distribution\n",
    "    fill_values = np.random.choice(\n",
    "        value_counts.index, \n",
    "        size=num_nans, \n",
    "        p=value_counts.values\n",
    "    )\n",
    "    \n",
    "    # Fill NaN values with the sampled values\n",
    "    data.loc[data[column].isna(), column] = fill_values\n",
    "\n",
    "# Apply this function to the columns you want to fill\n",
    "columns_to_fill = ['lat', 'long', 'cancellation_policy']  # Replace with your column names\n",
    "for column in columns_to_fill:\n",
    "    fill_na_with_distribution(data, column)\n"
   ]
  },
  {
   "cell_type": "code",
   "execution_count": 171,
   "metadata": {},
   "outputs": [
    {
     "data": {
      "text/plain": [
       "625.0"
      ]
     },
     "execution_count": 171,
     "metadata": {},
     "output_type": "execute_result"
    }
   ],
   "source": [
    "median_price = data['price'].median()\n",
    "median_price"
   ]
  },
  {
   "cell_type": "code",
   "execution_count": 172,
   "metadata": {},
   "outputs": [
    {
     "data": {
      "text/plain": [
       "2012.0"
      ]
     },
     "execution_count": 172,
     "metadata": {},
     "output_type": "execute_result"
    }
   ],
   "source": [
    "median_year = data['Construction year'].median()\n",
    "median_year"
   ]
  },
  {
   "cell_type": "code",
   "execution_count": 173,
   "metadata": {},
   "outputs": [
    {
     "data": {
      "text/plain": [
       "125.0"
      ]
     },
     "execution_count": 173,
     "metadata": {},
     "output_type": "execute_result"
    }
   ],
   "source": [
    "median_fee = data['service fee'].median()\n",
    "median_fee"
   ]
  },
  {
   "cell_type": "code",
   "execution_count": 174,
   "metadata": {},
   "outputs": [
    {
     "data": {
      "text/plain": [
       "3.0"
      ]
     },
     "execution_count": 174,
     "metadata": {},
     "output_type": "execute_result"
    }
   ],
   "source": [
    "median_nights = data['minimum nights'].median()\n",
    "median_nights"
   ]
  },
  {
   "cell_type": "code",
   "execution_count": 175,
   "metadata": {},
   "outputs": [
    {
     "data": {
      "text/plain": [
       "7.0"
      ]
     },
     "execution_count": 175,
     "metadata": {},
     "output_type": "execute_result"
    }
   ],
   "source": [
    "median_reviews = data['number of reviews'].median()\n",
    "median_reviews"
   ]
  },
  {
   "cell_type": "code",
   "execution_count": 176,
   "metadata": {},
   "outputs": [
    {
     "data": {
      "text/plain": [
       "96.0"
      ]
     },
     "execution_count": 176,
     "metadata": {},
     "output_type": "execute_result"
    }
   ],
   "source": [
    "median_availability = data['availability 365'].median()\n",
    "median_availability"
   ]
  },
  {
   "cell_type": "code",
   "execution_count": 177,
   "metadata": {},
   "outputs": [
    {
     "data": {
      "text/plain": [
       "1.0"
      ]
     },
     "execution_count": 177,
     "metadata": {},
     "output_type": "execute_result"
    }
   ],
   "source": [
    "median_listing = data['calculated host listings count'].median()\n",
    "median_listing"
   ]
  },
  {
   "cell_type": "code",
   "execution_count": 178,
   "metadata": {},
   "outputs": [],
   "source": [
    "data['price'].fillna(median_price, inplace=True)"
   ]
  },
  {
   "cell_type": "code",
   "execution_count": 179,
   "metadata": {},
   "outputs": [],
   "source": [
    "data['Construction year'].fillna(median_year, inplace=True)"
   ]
  },
  {
   "cell_type": "code",
   "execution_count": 180,
   "metadata": {},
   "outputs": [],
   "source": [
    "data['service fee'].fillna(median_fee, inplace=True)"
   ]
  },
  {
   "cell_type": "code",
   "execution_count": 181,
   "metadata": {},
   "outputs": [],
   "source": [
    "data['minimum nights'].fillna(median_nights, inplace=True)"
   ]
  },
  {
   "cell_type": "code",
   "execution_count": 182,
   "metadata": {},
   "outputs": [],
   "source": [
    "data['number of reviews'].fillna(median_reviews, inplace=True)"
   ]
  },
  {
   "cell_type": "code",
   "execution_count": 183,
   "metadata": {},
   "outputs": [],
   "source": [
    "data['availability 365'].fillna(median_availability, inplace=True)"
   ]
  },
  {
   "cell_type": "code",
   "execution_count": 184,
   "metadata": {},
   "outputs": [],
   "source": [
    "data['calculated host listings count'].fillna(median_listing, inplace=True)"
   ]
  },
  {
   "cell_type": "code",
   "execution_count": 185,
   "metadata": {},
   "outputs": [],
   "source": [
    "data['last review'] = pd.to_datetime(data['last review'])"
   ]
  },
  {
   "cell_type": "code",
   "execution_count": 186,
   "metadata": {},
   "outputs": [],
   "source": [
    "median_last_review = data['last review'].median()"
   ]
  },
  {
   "cell_type": "code",
   "execution_count": 187,
   "metadata": {},
   "outputs": [],
   "source": [
    "data['last review'].fillna(median_last_review, inplace=True)"
   ]
  },
  {
   "cell_type": "code",
   "execution_count": 188,
   "metadata": {},
   "outputs": [
    {
     "data": {
      "text/plain": [
       "id                                    0\n",
       "NAME                                  0\n",
       "host id                               0\n",
       "host_identity_verified              289\n",
       "host name                             0\n",
       "neighbourhood group                  29\n",
       "neighbourhood                        16\n",
       "lat                                   0\n",
       "long                                  0\n",
       "country                               0\n",
       "country code                          0\n",
       "instant_bookable                    105\n",
       "cancellation_policy                   0\n",
       "room type                             0\n",
       "Construction year                     0\n",
       "price                                 0\n",
       "service fee                           0\n",
       "minimum nights                        0\n",
       "number of reviews                     0\n",
       "last review                           0\n",
       "reviews per month                 15818\n",
       "review rate number                  319\n",
       "calculated host listings count        0\n",
       "availability 365                      0\n",
       "house_rules                           0\n",
       "dtype: int64"
      ]
     },
     "execution_count": 188,
     "metadata": {},
     "output_type": "execute_result"
    }
   ],
   "source": [
    "data.isnull().sum()"
   ]
  },
  {
   "cell_type": "code",
   "execution_count": 189,
   "metadata": {},
   "outputs": [
    {
     "name": "stdout",
     "output_type": "stream",
     "text": [
      "host_identity_verified\n",
      "unconfirmed    51118\n",
      "verified       50940\n",
      "Name: count, dtype: int64\n",
      "\n",
      "Training Accuracy: 0.50\n"
     ]
    }
   ],
   "source": [
    "# Encode categorical variable using LabelEncoder\n",
    "label_encoder = LabelEncoder()\n",
    "data['cancellation_policy_encoded'] = label_encoder.fit_transform(data['cancellation_policy'])\n",
    "\n",
    "# Define the features and target variable\n",
    "features = ['price', 'lat', 'long', 'cancellation_policy_encoded']\n",
    "target = 'host_identity_verified'\n",
    "\n",
    "# Split the data into training and prediction sets\n",
    "train_data = data.dropna(subset=[target])  # Rows without NaN in target\n",
    "test_data = data[data[target].isna()]        # Rows with NaN in target\n",
    "\n",
    "# Separate features and target variable for training data\n",
    "X_train = train_data[features]\n",
    "y_train = train_data[target]\n",
    "\n",
    "# Separate features for test data\n",
    "X_test = test_data[features]\n",
    "\n",
    "# Encode target variable 'host_identity_verified' using LabelEncoder\n",
    "target_encoder = LabelEncoder()\n",
    "y_train_encoded = target_encoder.fit_transform(y_train)\n",
    "\n",
    "# Train the logistic regression model\n",
    "model = LogisticRegression(max_iter=1000)\n",
    "model.fit(X_train, y_train_encoded)\n",
    "\n",
    "# Predict the NaN values\n",
    "predicted_values_encoded = model.predict(X_test)\n",
    "\n",
    "# Decode the predicted values\n",
    "predicted_values = target_encoder.inverse_transform(predicted_values_encoded)\n",
    "\n",
    "# Assign predicted values back to the original DataFrame\n",
    "data.loc[data[target].isna(), target] = predicted_values\n",
    "\n",
    "# Drop the encoded cancellation_policy column if it was added\n",
    "data.drop(columns=['cancellation_policy_encoded'], inplace=True)\n",
    "\n",
    "# Check the result\n",
    "print(data[target].value_counts())\n",
    "\n",
    "# Predict on the training data\n",
    "y_train_pred = model.predict(X_train)\n",
    "\n",
    "# Calculate accuracy\n",
    "train_accuracy = accuracy_score(y_train_encoded, y_train_pred)\n",
    "print(f'\\nTraining Accuracy: {train_accuracy:.2f}')\n"
   ]
  },
  {
   "cell_type": "code",
   "execution_count": 190,
   "metadata": {},
   "outputs": [
    {
     "data": {
      "text/plain": [
       "id                                    0\n",
       "NAME                                  0\n",
       "host id                               0\n",
       "host_identity_verified                0\n",
       "host name                             0\n",
       "neighbourhood group                  29\n",
       "neighbourhood                        16\n",
       "lat                                   0\n",
       "long                                  0\n",
       "country                               0\n",
       "country code                          0\n",
       "instant_bookable                    105\n",
       "cancellation_policy                   0\n",
       "room type                             0\n",
       "Construction year                     0\n",
       "price                                 0\n",
       "service fee                           0\n",
       "minimum nights                        0\n",
       "number of reviews                     0\n",
       "last review                           0\n",
       "reviews per month                 15818\n",
       "review rate number                  319\n",
       "calculated host listings count        0\n",
       "availability 365                      0\n",
       "house_rules                           0\n",
       "dtype: int64"
      ]
     },
     "execution_count": 190,
     "metadata": {},
     "output_type": "execute_result"
    }
   ],
   "source": [
    "data.isnull().sum()"
   ]
  },
  {
   "cell_type": "markdown",
   "metadata": {},
   "source": [
    "## Vlookup"
   ]
  },
  {
   "cell_type": "code",
   "execution_count": 191,
   "metadata": {},
   "outputs": [],
   "source": [
    "# Step 1: Create a mapping from neighbourhood to neighbourhood group using known values\n",
    "neighbourhood_to_group = data.dropna(subset=['neighbourhood group']).drop_duplicates(subset=['neighbourhood']).set_index('neighbourhood')['neighbourhood group'].to_dict()\n",
    "\n",
    "# Step 2: Define a function to fill the missing values\n",
    "def fill_neighbourhood_group(row):\n",
    "    if pd.isna(row['neighbourhood group']):\n",
    "        return neighbourhood_to_group.get(row['neighbourhood'], row['neighbourhood group'])\n",
    "    return row['neighbourhood group']\n",
    "\n",
    "# Step 3: Apply the function to fill the missing values\n",
    "data['neighbourhood group'] = data.apply(fill_neighbourhood_group, axis=1)"
   ]
  },
  {
   "cell_type": "code",
   "execution_count": 192,
   "metadata": {},
   "outputs": [
    {
     "name": "stdout",
     "output_type": "stream",
     "text": [
      "neighbourhood\n",
      "Bedford-Stuyvesant        7901\n",
      "Williamsburg              7737\n",
      "Harlem                    5445\n",
      "Bushwick                  4956\n",
      "Hell's Kitchen            3951\n",
      "                          ... \n",
      "Willowbrook                  3\n",
      "Gerritsen Beach              3\n",
      "Fort Wadsworth               2\n",
      "Glen Oaks                    2\n",
      "Chelsea, Staten Island       1\n",
      "Name: count, Length: 224, dtype: int64\n",
      "\n",
      "Training Accuracy: 0.20\n"
     ]
    },
    {
     "name": "stderr",
     "output_type": "stream",
     "text": [
      "c:\\Users\\User\\AppData\\Local\\Programs\\Python\\Python312\\Lib\\site-packages\\sklearn\\linear_model\\_logistic.py:469: ConvergenceWarning: lbfgs failed to converge (status=1):\n",
      "STOP: TOTAL NO. of ITERATIONS REACHED LIMIT.\n",
      "\n",
      "Increase the number of iterations (max_iter) or scale the data as shown in:\n",
      "    https://scikit-learn.org/stable/modules/preprocessing.html\n",
      "Please also refer to the documentation for alternative solver options:\n",
      "    https://scikit-learn.org/stable/modules/linear_model.html#logistic-regression\n",
      "  n_iter_i = _check_optimize_result(\n"
     ]
    }
   ],
   "source": [
    "# Encode categorical variable using LabelEncoder\n",
    "label_encoder = LabelEncoder()\n",
    "data['neighbourhood_group_encoded'] = label_encoder.fit_transform(data['neighbourhood group'])\n",
    "\n",
    "# Define the features and target variable\n",
    "features = ['lat', 'neighbourhood_group_encoded','long']\n",
    "target = 'neighbourhood'\n",
    "\n",
    "# Split the data into training and prediction sets\n",
    "train_data = data.dropna(subset=[target])  # Rows without NaN in target\n",
    "test_data = data[data[target].isna()]        # Rows with NaN in target\n",
    "\n",
    "# Separate features and target variable for training data\n",
    "X_train = train_data[features]\n",
    "y_train = train_data[target]\n",
    "\n",
    "# Separate features for test data\n",
    "X_test = test_data[features]\n",
    "\n",
    "# Encode target variable 'host_identity_verified' using LabelEncoder\n",
    "target_encoder = LabelEncoder()\n",
    "y_train_encoded = target_encoder.fit_transform(y_train)\n",
    "\n",
    "# Train the logistic regression model\n",
    "model = LogisticRegression(max_iter=1000)\n",
    "model.fit(X_train, y_train_encoded)\n",
    "\n",
    "# Predict the NaN values\n",
    "predicted_values_encoded = model.predict(X_test)\n",
    "\n",
    "# Decode the predicted values\n",
    "predicted_values = target_encoder.inverse_transform(predicted_values_encoded)\n",
    "\n",
    "# Assign predicted values back to the original DataFrame\n",
    "data.loc[data[target].isna(), target] = predicted_values\n",
    "\n",
    "# Check the result\n",
    "print(data[target].value_counts())\n",
    "\n",
    "# Predict on the training data\n",
    "y_train_pred = model.predict(X_train)\n",
    "\n",
    "# Calculate accuracy\n",
    "train_accuracy = accuracy_score(y_train_encoded, y_train_pred)\n",
    "print(f'\\nTraining Accuracy: {train_accuracy:.2f}')"
   ]
  },
  {
   "cell_type": "code",
   "execution_count": 193,
   "metadata": {},
   "outputs": [
    {
     "data": {
      "text/plain": [
       "id                                    0\n",
       "NAME                                  0\n",
       "host id                               0\n",
       "host_identity_verified                0\n",
       "host name                             0\n",
       "neighbourhood group                   0\n",
       "neighbourhood                         0\n",
       "lat                                   0\n",
       "long                                  0\n",
       "country                               0\n",
       "country code                          0\n",
       "instant_bookable                    105\n",
       "cancellation_policy                   0\n",
       "room type                             0\n",
       "Construction year                     0\n",
       "price                                 0\n",
       "service fee                           0\n",
       "minimum nights                        0\n",
       "number of reviews                     0\n",
       "last review                           0\n",
       "reviews per month                 15818\n",
       "review rate number                  319\n",
       "calculated host listings count        0\n",
       "availability 365                      0\n",
       "house_rules                           0\n",
       "neighbourhood_group_encoded           0\n",
       "dtype: int64"
      ]
     },
     "execution_count": 193,
     "metadata": {},
     "output_type": "execute_result"
    }
   ],
   "source": [
    "data.isnull().sum()"
   ]
  },
  {
   "cell_type": "code",
   "execution_count": 194,
   "metadata": {},
   "outputs": [
    {
     "name": "stdout",
     "output_type": "stream",
     "text": [
      "instant_bookable\n",
      "False    51260\n",
      "True     50798\n",
      "Name: count, dtype: int64\n",
      "\n",
      "Training Accuracy: 0.50\n"
     ]
    }
   ],
   "source": [
    "# Encode categorical variable using LabelEncoder\n",
    "label_encoder = LabelEncoder()\n",
    "data['cancellation_policy_encoded'] = label_encoder.fit_transform(data['cancellation_policy'])\n",
    "data['host_identity_verified_encoded'] = label_encoder.fit_transform(data['host_identity_verified'])\n",
    "\n",
    "# Define the features and target variable\n",
    "features = ['host_identity_verified_encoded', 'cancellation_policy_encoded', 'price']\n",
    "target = 'instant_bookable'\n",
    "\n",
    "# Split the data into training and prediction sets\n",
    "train_data = data.dropna(subset=[target])  # Rows without NaN in target\n",
    "test_data = data[data[target].isna()]        # Rows with NaN in target\n",
    "\n",
    "# Separate features and target variable for training data\n",
    "X_train = train_data[features]\n",
    "y_train = train_data[target]\n",
    "\n",
    "# Separate features for test data\n",
    "X_test = test_data[features]\n",
    "\n",
    "# Encode target variable 'host_identity_verified' using LabelEncoder\n",
    "target_encoder = LabelEncoder()\n",
    "y_train_encoded = target_encoder.fit_transform(y_train)\n",
    "\n",
    "# Train the logistic regression model\n",
    "model = LogisticRegression(max_iter=1000)\n",
    "model.fit(X_train, y_train_encoded)\n",
    "\n",
    "# Predict the NaN values\n",
    "predicted_values_encoded = model.predict(X_test)\n",
    "\n",
    "# Decode the predicted values\n",
    "predicted_values = target_encoder.inverse_transform(predicted_values_encoded)\n",
    "\n",
    "# Assign predicted values back to the original DataFrame\n",
    "data.loc[data[target].isna(), target] = predicted_values\n",
    "\n",
    "# Drop the encoded cancellation_policy column if it was added\n",
    "data.drop(columns=['cancellation_policy_encoded', 'host_identity_verified_encoded'], inplace=True)\n",
    "\n",
    "# Check the result\n",
    "print(data[target].value_counts())\n",
    "\n",
    "# Predict on the training data\n",
    "y_train_pred = model.predict(X_train)\n",
    "\n",
    "# Calculate accuracy\n",
    "train_accuracy = accuracy_score(y_train_encoded, y_train_pred)\n",
    "print(f'\\nTraining Accuracy: {train_accuracy:.2f}')"
   ]
  },
  {
   "cell_type": "code",
   "execution_count": 195,
   "metadata": {},
   "outputs": [
    {
     "data": {
      "text/plain": [
       "id                                    0\n",
       "NAME                                  0\n",
       "host id                               0\n",
       "host_identity_verified                0\n",
       "host name                             0\n",
       "neighbourhood group                   0\n",
       "neighbourhood                         0\n",
       "lat                                   0\n",
       "long                                  0\n",
       "country                               0\n",
       "country code                          0\n",
       "instant_bookable                      0\n",
       "cancellation_policy                   0\n",
       "room type                             0\n",
       "Construction year                     0\n",
       "price                                 0\n",
       "service fee                           0\n",
       "minimum nights                        0\n",
       "number of reviews                     0\n",
       "last review                           0\n",
       "reviews per month                 15818\n",
       "review rate number                  319\n",
       "calculated host listings count        0\n",
       "availability 365                      0\n",
       "house_rules                           0\n",
       "neighbourhood_group_encoded           0\n",
       "dtype: int64"
      ]
     },
     "execution_count": 195,
     "metadata": {},
     "output_type": "execute_result"
    }
   ],
   "source": [
    "data.isnull().sum()"
   ]
  },
  {
   "cell_type": "code",
   "execution_count": 196,
   "metadata": {},
   "outputs": [
    {
     "name": "stdout",
     "output_type": "stream",
     "text": [
      "review rate number\n",
      "5.0    23360\n",
      "4.0    23283\n",
      "3.0    23163\n",
      "2.0    23066\n",
      "1.0     9186\n",
      "Name: count, dtype: int64\n",
      "\n",
      "Training Accuracy: 0.23\n"
     ]
    },
    {
     "name": "stderr",
     "output_type": "stream",
     "text": [
      "c:\\Users\\User\\AppData\\Local\\Programs\\Python\\Python312\\Lib\\site-packages\\sklearn\\linear_model\\_logistic.py:469: ConvergenceWarning: lbfgs failed to converge (status=1):\n",
      "STOP: TOTAL NO. of ITERATIONS REACHED LIMIT.\n",
      "\n",
      "Increase the number of iterations (max_iter) or scale the data as shown in:\n",
      "    https://scikit-learn.org/stable/modules/preprocessing.html\n",
      "Please also refer to the documentation for alternative solver options:\n",
      "    https://scikit-learn.org/stable/modules/linear_model.html#logistic-regression\n",
      "  n_iter_i = _check_optimize_result(\n"
     ]
    }
   ],
   "source": [
    "# Encode categorical variable using LabelEncoder\n",
    "label_encoder = LabelEncoder()\n",
    "data['cancellation_policy_encoded'] = label_encoder.fit_transform(data['cancellation_policy'])\n",
    "\n",
    "# Define the features and target variable\n",
    "features = ['price', 'Construction year', 'number of reviews','cancellation_policy_encoded', 'lat', 'long']\n",
    "target = 'review rate number'\n",
    "\n",
    "# Split the data into training and prediction sets\n",
    "train_data = data.dropna(subset=[target])  # Rows without NaN in target\n",
    "test_data = data[data[target].isna()]        # Rows with NaN in target\n",
    "\n",
    "# Separate features and target variable for training data\n",
    "X_train = train_data[features]\n",
    "y_train = train_data[target]\n",
    "\n",
    "# Separate features for test data\n",
    "X_test = test_data[features]\n",
    "\n",
    "# Encode target variable 'host_identity_verified' using LabelEncoder\n",
    "target_encoder = LabelEncoder()\n",
    "y_train_encoded = target_encoder.fit_transform(y_train)\n",
    "\n",
    "# Train the logistic regression model\n",
    "model = LogisticRegression(max_iter=1000)\n",
    "model.fit(X_train, y_train_encoded)\n",
    "\n",
    "# Predict the NaN values\n",
    "predicted_values_encoded = model.predict(X_test)\n",
    "\n",
    "# Decode the predicted values\n",
    "predicted_values = target_encoder.inverse_transform(predicted_values_encoded)\n",
    "\n",
    "# Assign predicted values back to the original DataFrame\n",
    "data.loc[data[target].isna(), target] = predicted_values\n",
    "\n",
    "# Drop the encoded cancellation_policy column if it was added\n",
    "data.drop(columns=['cancellation_policy_encoded'], inplace=True)\n",
    "\n",
    "# Check the result\n",
    "print(data[target].value_counts())\n",
    "\n",
    "# Predict on the training data\n",
    "y_train_pred = model.predict(X_train)\n",
    "\n",
    "# Calculate accuracy\n",
    "train_accuracy = accuracy_score(y_train_encoded, y_train_pred)\n",
    "print(f'\\nTraining Accuracy: {train_accuracy:.2f}')"
   ]
  },
  {
   "cell_type": "code",
   "execution_count": 197,
   "metadata": {},
   "outputs": [
    {
     "data": {
      "text/plain": [
       "id                                    0\n",
       "NAME                                  0\n",
       "host id                               0\n",
       "host_identity_verified                0\n",
       "host name                             0\n",
       "neighbourhood group                   0\n",
       "neighbourhood                         0\n",
       "lat                                   0\n",
       "long                                  0\n",
       "country                               0\n",
       "country code                          0\n",
       "instant_bookable                      0\n",
       "cancellation_policy                   0\n",
       "room type                             0\n",
       "Construction year                     0\n",
       "price                                 0\n",
       "service fee                           0\n",
       "minimum nights                        0\n",
       "number of reviews                     0\n",
       "last review                           0\n",
       "reviews per month                 15818\n",
       "review rate number                    0\n",
       "calculated host listings count        0\n",
       "availability 365                      0\n",
       "house_rules                           0\n",
       "neighbourhood_group_encoded           0\n",
       "dtype: int64"
      ]
     },
     "execution_count": 197,
     "metadata": {},
     "output_type": "execute_result"
    }
   ],
   "source": [
    "data.isnull().sum()"
   ]
  },
  {
   "cell_type": "code",
   "execution_count": 198,
   "metadata": {},
   "outputs": [
    {
     "name": "stderr",
     "output_type": "stream",
     "text": [
      "c:\\Users\\User\\AppData\\Local\\Programs\\Python\\Python312\\Lib\\site-packages\\sklearn\\linear_model\\_logistic.py:469: ConvergenceWarning: lbfgs failed to converge (status=1):\n",
      "STOP: TOTAL NO. of ITERATIONS REACHED LIMIT.\n",
      "\n",
      "Increase the number of iterations (max_iter) or scale the data as shown in:\n",
      "    https://scikit-learn.org/stable/modules/preprocessing.html\n",
      "Please also refer to the documentation for alternative solver options:\n",
      "    https://scikit-learn.org/stable/modules/linear_model.html#logistic-regression\n",
      "  n_iter_i = _check_optimize_result(\n"
     ]
    },
    {
     "name": "stdout",
     "output_type": "stream",
     "text": [
      "reviews per month\n",
      "0.03     17338\n",
      "1.00      1579\n",
      "0.05      1491\n",
      "0.09      1264\n",
      "0.04      1260\n",
      "         ...  \n",
      "9.10         1\n",
      "10.36        1\n",
      "8.50         1\n",
      "15.32        1\n",
      "33.08        1\n",
      "Name: count, Length: 1016, dtype: int64\n",
      "\n",
      "Training Accuracy: 0.03\n"
     ]
    }
   ],
   "source": [
    "# Encode categorical variable using LabelEncoder\n",
    "label_encoder = LabelEncoder()\n",
    "data['host_identity_verified_encoded'] = label_encoder.fit_transform(data['host_identity_verified'])\n",
    "\n",
    "# Define the features and target variable\n",
    "features = ['host_identity_verified_encoded', 'price', 'number of reviews', 'lat', 'long']\n",
    "target = 'reviews per month'\n",
    "\n",
    "# Split the data into training and prediction sets\n",
    "train_data = data.dropna(subset=[target])  # Rows without NaN in target\n",
    "test_data = data[data[target].isna()]        # Rows with NaN in target\n",
    "\n",
    "# Separate features and target variable for training data\n",
    "X_train = train_data[features]\n",
    "y_train = train_data[target]\n",
    "\n",
    "# Separate features for test data\n",
    "X_test = test_data[features]\n",
    "\n",
    "# Encode target variable 'host_identity_verified' using LabelEncoder\n",
    "target_encoder = LabelEncoder()\n",
    "y_train_encoded = target_encoder.fit_transform(y_train)\n",
    "\n",
    "# Train the logistic regression model\n",
    "model = LogisticRegression(max_iter=1000)\n",
    "model.fit(X_train, y_train_encoded)\n",
    "\n",
    "# Predict the NaN values\n",
    "predicted_values_encoded = model.predict(X_test)\n",
    "\n",
    "# Decode the predicted values\n",
    "predicted_values = target_encoder.inverse_transform(predicted_values_encoded)\n",
    "\n",
    "# Assign predicted values back to the original DataFrame\n",
    "data.loc[data[target].isna(), target] = predicted_values\n",
    "\n",
    "# Drop the encoded cancellation_policy column if it was added\n",
    "data.drop(columns=['host_identity_verified_encoded'], inplace=True)\n",
    "\n",
    "# Check the result\n",
    "print(data[target].value_counts())\n",
    "\n",
    "# Predict on the training data\n",
    "y_train_pred = model.predict(X_train)\n",
    "\n",
    "# Calculate accuracy\n",
    "train_accuracy = accuracy_score(y_train_encoded, y_train_pred)\n",
    "print(f'\\nTraining Accuracy: {train_accuracy:.2f}')"
   ]
  },
  {
   "cell_type": "code",
   "execution_count": 199,
   "metadata": {},
   "outputs": [
    {
     "data": {
      "text/plain": [
       "id                                0\n",
       "NAME                              0\n",
       "host id                           0\n",
       "host_identity_verified            0\n",
       "host name                         0\n",
       "neighbourhood group               0\n",
       "neighbourhood                     0\n",
       "lat                               0\n",
       "long                              0\n",
       "country                           0\n",
       "country code                      0\n",
       "instant_bookable                  0\n",
       "cancellation_policy               0\n",
       "room type                         0\n",
       "Construction year                 0\n",
       "price                             0\n",
       "service fee                       0\n",
       "minimum nights                    0\n",
       "number of reviews                 0\n",
       "last review                       0\n",
       "reviews per month                 0\n",
       "review rate number                0\n",
       "calculated host listings count    0\n",
       "availability 365                  0\n",
       "house_rules                       0\n",
       "neighbourhood_group_encoded       0\n",
       "dtype: int64"
      ]
     },
     "execution_count": 199,
     "metadata": {},
     "output_type": "execute_result"
    }
   ],
   "source": [
    "data.isnull().sum()"
   ]
  },
  {
   "cell_type": "code",
   "execution_count": 200,
   "metadata": {},
   "outputs": [
    {
     "data": {
      "text/plain": [
       "Index(['id', 'NAME', 'host id', 'host_identity_verified', 'host name',\n",
       "       'neighbourhood group', 'neighbourhood', 'lat', 'long', 'country',\n",
       "       'country code', 'instant_bookable', 'cancellation_policy', 'room type',\n",
       "       'Construction year', 'price', 'service fee', 'minimum nights',\n",
       "       'number of reviews', 'last review', 'reviews per month',\n",
       "       'review rate number', 'calculated host listings count',\n",
       "       'availability 365', 'house_rules', 'neighbourhood_group_encoded'],\n",
       "      dtype='object')"
      ]
     },
     "execution_count": 200,
     "metadata": {},
     "output_type": "execute_result"
    }
   ],
   "source": [
    "data.columns"
   ]
  },
  {
   "cell_type": "code",
   "execution_count": 201,
   "metadata": {},
   "outputs": [],
   "source": [
    "# Rename columns to avoid SQL syntax issues\n",
    "data.columns = data.columns.str.strip().str.replace(' ', '_').str.lower()"
   ]
  },
  {
   "cell_type": "code",
   "execution_count": 202,
   "metadata": {},
   "outputs": [
    {
     "data": {
      "text/plain": [
       "Index(['id', 'name', 'host_id', 'host_identity_verified', 'host_name',\n",
       "       'neighbourhood_group', 'neighbourhood', 'lat', 'long', 'country',\n",
       "       'country_code', 'instant_bookable', 'cancellation_policy', 'room_type',\n",
       "       'construction_year', 'price', 'service_fee', 'minimum_nights',\n",
       "       'number_of_reviews', 'last_review', 'reviews_per_month',\n",
       "       'review_rate_number', 'calculated_host_listings_count',\n",
       "       'availability_365', 'house_rules', 'neighbourhood_group_encoded'],\n",
       "      dtype='object')"
      ]
     },
     "execution_count": 202,
     "metadata": {},
     "output_type": "execute_result"
    }
   ],
   "source": [
    "data.columns"
   ]
  },
  {
   "cell_type": "code",
   "execution_count": 203,
   "metadata": {},
   "outputs": [],
   "source": [
    "data.to_csv('final_dataset.csv')"
   ]
  }
 ],
 "metadata": {
  "kernelspec": {
   "display_name": "Python 3",
   "language": "python",
   "name": "python3"
  },
  "language_info": {
   "codemirror_mode": {
    "name": "ipython",
    "version": 3
   },
   "file_extension": ".py",
   "mimetype": "text/x-python",
   "name": "python",
   "nbconvert_exporter": "python",
   "pygments_lexer": "ipython3",
   "version": "3.12.0"
  }
 },
 "nbformat": 4,
 "nbformat_minor": 2
}
